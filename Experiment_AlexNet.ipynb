{
 "cells": [
  {
   "cell_type": "code",
   "execution_count": 1,
   "metadata": {},
   "outputs": [],
   "source": [
    "import torch\n",
    "import torch.nn as nn\n",
    "import torch.optim as optim\n",
    "import numpy as np\n",
    "import torchvision\n",
    "import matplotlib.pyplot as plt\n",
    "import os\n",
    "import time\n",
    "import copy\n",
    "import pandas as pd\n",
    "from os import listdir\n",
    "from PIL import Image\n",
    "from torchvision import datasets, models, transforms\n",
    "from sklearn.metrics import confusion_matrix"
   ]
  },
  {
   "cell_type": "code",
   "execution_count": 2,
   "metadata": {},
   "outputs": [],
   "source": [
    "dataset_dir = '../Dataset'\n",
    "model_name = 'alexnet'\n",
    "num_classes = 15\n",
    "batch_size = 128\n",
    "num_epochs = 25\n",
    "feature_extract = True"
   ]
  },
  {
   "cell_type": "code",
   "execution_count": 3,
   "metadata": {},
   "outputs": [],
   "source": [
    "data_transforms = {\n",
    "    'train': transforms.Compose([\n",
    "        transforms.RandomResizedCrop(224),\n",
    "        transforms.RandomHorizontalFlip(),\n",
    "        transforms.ToTensor(),\n",
    "        transforms.Normalize(mean=[0.485, 0.456, 0.406], std=[0.229, 0.224, 0.225])\n",
    "    ]),\n",
    "    'val': transforms.Compose([\n",
    "        transforms.Resize(256),\n",
    "        transforms.CenterCrop(224),\n",
    "        transforms.ToTensor(),\n",
    "        transforms.Normalize(mean=[0.485, 0.456, 0.406], std=[0.229, 0.224, 0.225])\n",
    "    ]),\n",
    "}\n",
    "\n",
    "image_datasets = {x: datasets.ImageFolder(os.path.join(dataset_dir, x), data_transforms[x]) for x in ['train', 'val']}\n",
    "\n",
    "dataloaders_dict = {x: torch.utils.data.DataLoader(image_datasets[x], batch_size=batch_size, shuffle=True, num_workers=4) for x in ['train', 'val']}"
   ]
  },
  {
   "cell_type": "code",
   "execution_count": 4,
   "metadata": {},
   "outputs": [
    {
     "data": {
      "text/plain": [
       "device(type='cuda', index=0)"
      ]
     },
     "execution_count": 4,
     "metadata": {},
     "output_type": "execute_result"
    }
   ],
   "source": [
    "device = torch.device(\"cuda:0\" if torch.cuda.is_available() else \"cpu\")\n",
    "device"
   ]
  },
  {
   "cell_type": "code",
   "execution_count": 5,
   "metadata": {},
   "outputs": [
    {
     "data": {
      "text/plain": [
       "'GeForce 840M'"
      ]
     },
     "execution_count": 5,
     "metadata": {},
     "output_type": "execute_result"
    }
   ],
   "source": [
    "torch.cuda.get_device_name(0)"
   ]
  },
  {
   "cell_type": "code",
   "execution_count": 6,
   "metadata": {},
   "outputs": [
    {
     "name": "stdout",
     "output_type": "stream",
     "text": [
      "AlexNet(\n",
      "  (features): Sequential(\n",
      "    (0): Conv2d(3, 64, kernel_size=(11, 11), stride=(4, 4), padding=(2, 2))\n",
      "    (1): ReLU(inplace=True)\n",
      "    (2): MaxPool2d(kernel_size=3, stride=2, padding=0, dilation=1, ceil_mode=False)\n",
      "    (3): Conv2d(64, 192, kernel_size=(5, 5), stride=(1, 1), padding=(2, 2))\n",
      "    (4): ReLU(inplace=True)\n",
      "    (5): MaxPool2d(kernel_size=3, stride=2, padding=0, dilation=1, ceil_mode=False)\n",
      "    (6): Conv2d(192, 384, kernel_size=(3, 3), stride=(1, 1), padding=(1, 1))\n",
      "    (7): ReLU(inplace=True)\n",
      "    (8): Conv2d(384, 256, kernel_size=(3, 3), stride=(1, 1), padding=(1, 1))\n",
      "    (9): ReLU(inplace=True)\n",
      "    (10): Conv2d(256, 256, kernel_size=(3, 3), stride=(1, 1), padding=(1, 1))\n",
      "    (11): ReLU(inplace=True)\n",
      "    (12): MaxPool2d(kernel_size=3, stride=2, padding=0, dilation=1, ceil_mode=False)\n",
      "  )\n",
      "  (avgpool): AdaptiveAvgPool2d(output_size=(6, 6))\n",
      "  (classifier): Sequential(\n",
      "    (0): Dropout(p=0.5, inplace=False)\n",
      "    (1): Linear(in_features=9216, out_features=4096, bias=True)\n",
      "    (2): ReLU(inplace=True)\n",
      "    (3): Dropout(p=0.5, inplace=False)\n",
      "    (4): Linear(in_features=4096, out_features=4096, bias=True)\n",
      "    (5): ReLU(inplace=True)\n",
      "    (6): Linear(in_features=4096, out_features=15, bias=True)\n",
      "  )\n",
      ")\n"
     ]
    }
   ],
   "source": [
    "def initialize_alexnet(model_name, num_classes, feature_extract=True, use_pretrained=True):\n",
    "\n",
    "  model_ft = None\n",
    "  input_size = 0\n",
    "\n",
    "  if model_name == \"alexnet\":\n",
    "    model_ft = models.alexnet(pretrained=use_pretrained)\n",
    "\n",
    "    if feature_extract:\n",
    "        for param in model_ft.parameters():\n",
    "            param.requires_grad = False\n",
    "    \n",
    "    num_ftrs = model_ft.classifier[6].in_features\n",
    "    model_ft.classifier[6] = nn.Linear(num_ftrs,num_classes)\n",
    "\n",
    "    input_size = 224\n",
    "  else:\n",
    "        print(\"Model name is invalid!\")\n",
    "        exit()\n",
    "\n",
    "  return model_ft,input_size\n",
    "\n",
    "model_ft, input_size = initialize_alexnet(model_name, num_classes, feature_extract)\n",
    "\n",
    "print(model_ft)"
   ]
  },
  {
   "cell_type": "code",
   "execution_count": 7,
   "metadata": {},
   "outputs": [
    {
     "name": "stdout",
     "output_type": "stream",
     "text": [
      "Parameters to learn\n",
      "\t classifier.6.weight\n",
      "\t classifier.6.bias\n"
     ]
    }
   ],
   "source": [
    "model_ft = model_ft.to(device)\n",
    "\n",
    "params_to_update = model_ft.parameters()\n",
    "print(\"Parameters to learn\")\n",
    "if feature_extract:\n",
    "    params_to_update = []\n",
    "    for name,param in model_ft.named_parameters():\n",
    "        if param.requires_grad == True:\n",
    "            params_to_update.append(param)\n",
    "            print(\"\\t\",name)\n",
    "else:\n",
    "    for name,param in model_ft.named_parameters():\n",
    "        if param.requires_grad == True:\n",
    "            print(\"\\t\",name)\n",
    "\n",
    "optimizer_ft = optim.SGD(params_to_update, lr=0.01, momentum=0.9)"
   ]
  },
  {
   "cell_type": "code",
   "execution_count": 8,
   "metadata": {},
   "outputs": [
    {
     "name": "stdout",
     "output_type": "stream",
     "text": [
      "Epoch: 1/25\n",
      "------------------------------\n",
      "train Loss: 1.7096 Acc: 0.4113\n",
      "val Loss: 1.2801 Acc: 0.6150\n",
      "\n",
      "Epoch: 2/25\n",
      "------------------------------\n",
      "train Loss: 1.2654 Acc: 0.6169\n",
      "val Loss: 0.9460 Acc: 0.7200\n",
      "\n",
      "Epoch: 3/25\n",
      "------------------------------\n",
      "train Loss: 1.2322 Acc: 0.6438\n",
      "val Loss: 1.4704 Acc: 0.5900\n",
      "\n",
      "Epoch: 4/25\n",
      "------------------------------\n",
      "train Loss: 1.2594 Acc: 0.6338\n",
      "val Loss: 1.0703 Acc: 0.7200\n",
      "\n",
      "Epoch: 5/25\n",
      "------------------------------\n",
      "train Loss: 1.2301 Acc: 0.6462\n",
      "val Loss: 1.0132 Acc: 0.6950\n",
      "\n",
      "Epoch: 6/25\n",
      "------------------------------\n",
      "train Loss: 1.0873 Acc: 0.6725\n",
      "val Loss: 0.9745 Acc: 0.7200\n",
      "\n",
      "Epoch: 7/25\n",
      "------------------------------\n",
      "train Loss: 1.0663 Acc: 0.6825\n",
      "val Loss: 1.0559 Acc: 0.6675\n",
      "\n",
      "Epoch: 8/25\n",
      "------------------------------\n",
      "train Loss: 0.9164 Acc: 0.7094\n",
      "val Loss: 0.7419 Acc: 0.7850\n",
      "\n",
      "Epoch: 9/25\n",
      "------------------------------\n",
      "train Loss: 0.9537 Acc: 0.7044\n",
      "val Loss: 0.9281 Acc: 0.7175\n",
      "\n",
      "Epoch: 10/25\n",
      "------------------------------\n",
      "train Loss: 0.9956 Acc: 0.6894\n",
      "val Loss: 0.5839 Acc: 0.7850\n",
      "\n",
      "Epoch: 11/25\n",
      "------------------------------\n",
      "train Loss: 1.0163 Acc: 0.6887\n",
      "val Loss: 0.7513 Acc: 0.7500\n",
      "\n",
      "Epoch: 12/25\n",
      "------------------------------\n",
      "train Loss: 1.0587 Acc: 0.6925\n",
      "val Loss: 0.7648 Acc: 0.7475\n",
      "\n",
      "Epoch: 13/25\n",
      "------------------------------\n",
      "train Loss: 0.8907 Acc: 0.7063\n",
      "val Loss: 1.0265 Acc: 0.7125\n",
      "\n",
      "Epoch: 14/25\n",
      "------------------------------\n",
      "train Loss: 0.9543 Acc: 0.7150\n",
      "val Loss: 0.7698 Acc: 0.7400\n",
      "\n",
      "Epoch: 15/25\n",
      "------------------------------\n",
      "train Loss: 0.9054 Acc: 0.7300\n",
      "val Loss: 0.7576 Acc: 0.7575\n",
      "\n",
      "Epoch: 16/25\n",
      "------------------------------\n",
      "train Loss: 1.0027 Acc: 0.6787\n",
      "val Loss: 0.9834 Acc: 0.7275\n",
      "\n",
      "Epoch: 17/25\n",
      "------------------------------\n",
      "train Loss: 0.9065 Acc: 0.7194\n",
      "val Loss: 0.8385 Acc: 0.7400\n",
      "\n",
      "Epoch: 18/25\n",
      "------------------------------\n",
      "train Loss: 1.0362 Acc: 0.6937\n",
      "val Loss: 0.5416 Acc: 0.8150\n",
      "\n",
      "Epoch: 19/25\n",
      "------------------------------\n",
      "train Loss: 0.9080 Acc: 0.7231\n",
      "val Loss: 0.8048 Acc: 0.7600\n",
      "\n",
      "Epoch: 20/25\n",
      "------------------------------\n",
      "train Loss: 0.9383 Acc: 0.7131\n",
      "val Loss: 0.6490 Acc: 0.8125\n",
      "\n",
      "Epoch: 21/25\n",
      "------------------------------\n",
      "train Loss: 0.8728 Acc: 0.7219\n",
      "val Loss: 0.6297 Acc: 0.7950\n",
      "\n",
      "Epoch: 22/25\n",
      "------------------------------\n",
      "train Loss: 0.8366 Acc: 0.7431\n",
      "val Loss: 0.7372 Acc: 0.7900\n",
      "\n",
      "Epoch: 23/25\n",
      "------------------------------\n",
      "train Loss: 0.8158 Acc: 0.7462\n",
      "val Loss: 0.6318 Acc: 0.8100\n",
      "\n",
      "Epoch: 24/25\n",
      "------------------------------\n",
      "train Loss: 0.8310 Acc: 0.7406\n",
      "val Loss: 0.5929 Acc: 0.7900\n",
      "\n",
      "Epoch: 25/25\n",
      "------------------------------\n",
      "train Loss: 0.8184 Acc: 0.7488\n",
      "val Loss: 0.5891 Acc: 0.8025\n",
      "\n",
      "-----------------------------------\n",
      "Training completed in 7m 34s\n",
      "Best validation accuracy: 0.815000\n",
      "-----------------------------------\n"
     ]
    }
   ],
   "source": [
    "def train_model(model, dataloaders, criterion, optimizer, num_epochs=25):\n",
    "    since = time.time()\n",
    "\n",
    "    val_acc_history = []\n",
    "    train_acc_history = []\n",
    "    val_loss_history = []\n",
    "    train_loss_history = []\n",
    "\n",
    "    best_model_wts = copy.deepcopy(model.state_dict())\n",
    "    best_acc = 0.0\n",
    "\n",
    "    for epoch in range(num_epochs):\n",
    "        print('Epoch: {}/{}'.format(epoch + 1, num_epochs))\n",
    "        print('-' * 30)\n",
    "\n",
    "        for phase in ['train', 'val']:\n",
    "            if phase == 'train':\n",
    "                model.train()\n",
    "            else:\n",
    "                model.eval()\n",
    "\n",
    "            running_loss = 0.0\n",
    "            running_corrects = 0\n",
    "\n",
    "            for inputs, labels in dataloaders[phase]:\n",
    "                inputs = inputs.to(device)\n",
    "                labels = labels.to(device)\n",
    "\n",
    "                optimizer.zero_grad()\n",
    "\n",
    "                with torch.set_grad_enabled(phase == 'train'):\n",
    "                    outputs = model(inputs)\n",
    "                    loss = criterion(outputs, labels)\n",
    "\n",
    "                    _, preds = torch.max(outputs, 1)\n",
    "\n",
    "                    if phase == 'train':\n",
    "                        loss.backward()\n",
    "                        optimizer.step()\n",
    "\n",
    "                running_loss += loss.item() * inputs.size(0)\n",
    "                running_corrects += torch.sum(preds == labels.data)\n",
    "\n",
    "            epoch_loss = running_loss / len(dataloaders[phase].dataset)\n",
    "            epoch_acc = running_corrects.double() / len(dataloaders[phase].dataset)\n",
    "\n",
    "            print('{} Loss: {:.4f} Acc: {:.4f}'.format(phase, epoch_loss, epoch_acc))\n",
    "\n",
    "            if phase == 'val' and epoch_acc > best_acc:\n",
    "                best_acc = epoch_acc\n",
    "                best_model_wts = copy.deepcopy(model.state_dict())\n",
    "            if phase == 'val':\n",
    "                val_acc_history.append(epoch_acc)\n",
    "                val_loss_history.append(epoch_loss)\n",
    "            else: \n",
    "                train_acc_history.append(epoch_acc)\n",
    "                train_loss_history.append(epoch_loss)\n",
    "\n",
    "        print()\n",
    "\n",
    "    time_elapsed = time.time() - since\n",
    "    print('-' * 35)\n",
    "    print('Training completed in {:.0f}m {:.0f}s'.format(time_elapsed // 60, time_elapsed % 60))\n",
    "    print('Best validation accuracy: {:4f}'.format(best_acc))\n",
    "    print('-' * 35)\n",
    "\n",
    "    model.load_state_dict(best_model_wts)\n",
    "    return model, val_acc_history, train_acc_history, val_loss_history, train_loss_history\n",
    "\n",
    "criterion = nn.CrossEntropyLoss()\n",
    "\n",
    "model_ft, val_acc_hist, train_acc_hist, val_loss_hist, train_loss_hist = train_model(model_ft, dataloaders_dict, criterion, optimizer_ft, num_epochs=num_epochs)"
   ]
  },
  {
   "cell_type": "code",
   "execution_count": 9,
   "metadata": {},
   "outputs": [
    {
     "data": {
      "image/png": "[encoded data removed]",
      "text/plain": [
       "<Figure size 432x288 with 1 Axes>"
      ]
     },
     "metadata": {
      "needs_background": "light"
     },
     "output_type": "display_data"
    },
    {
     "data": {
      "image/png": "[encoded data removed]",
      "text/plain": [
       "<Figure size 432x288 with 1 Axes>"
      ]
     },
     "metadata": {
      "needs_background": "light"
     },
     "output_type": "display_data"
    }
   ],
   "source": [
    "plt.title(\"Training and Validation Accurarcy\")\n",
    "plt.plot(range(1,num_epochs+1),train_acc_hist,'b',label=\"Training accurarcy\")\n",
    "plt.plot(range(1,num_epochs+1),val_acc_hist,'r',label=\"Validation accurarcy\")\n",
    "plt.legend()\n",
    "plt.show()\n",
    "\n",
    "plt.title(\"Training and Validation Loss\")\n",
    "plt.plot(range(1,num_epochs+1),train_loss_hist,'b',label=\"Training loss\")\n",
    "plt.plot(range(1,num_epochs+1),val_loss_hist,'r',label=\"Validation loss\")\n",
    "plt.legend()\n",
    "plt.show()"
   ]
  },
  {
   "cell_type": "code",
   "execution_count": 10,
   "metadata": {},
   "outputs": [],
   "source": [
    "model_path = '../experiment_alexnet_model.sav'\n",
    "torch.save(model_ft.state_dict(), model_path)"
   ]
  },
  {
   "cell_type": "code",
   "execution_count": 11,
   "metadata": {},
   "outputs": [],
   "source": [
    "labels_path = '../experiment_alexnet_label.csv'\n",
    "\n",
    "def save_class_labels(class_labels_path):\n",
    "    labels_dict = image_datasets['train'].class_to_idx\n",
    "    labels_df = pd.DataFrame.from_dict(data=labels_dict, orient='index', columns=['idx'])\n",
    "    labels_df['Label'] = labels_df.index\n",
    "    labels_df.reset_index(drop=True, inplace=True)\n",
    "    labels_df.to_csv(class_labels_path, header=None, index=False)\n",
    "\n",
    "save_class_labels(labels_path)"
   ]
  },
  {
   "cell_type": "code",
   "execution_count": 12,
   "metadata": {},
   "outputs": [
    {
     "data": {
      "text/plain": [
       "AlexNet(\n",
       "  (features): Sequential(\n",
       "    (0): Conv2d(3, 64, kernel_size=(11, 11), stride=(4, 4), padding=(2, 2))\n",
       "    (1): ReLU(inplace=True)\n",
       "    (2): MaxPool2d(kernel_size=3, stride=2, padding=0, dilation=1, ceil_mode=False)\n",
       "    (3): Conv2d(64, 192, kernel_size=(5, 5), stride=(1, 1), padding=(2, 2))\n",
       "    (4): ReLU(inplace=True)\n",
       "    (5): MaxPool2d(kernel_size=3, stride=2, padding=0, dilation=1, ceil_mode=False)\n",
       "    (6): Conv2d(192, 384, kernel_size=(3, 3), stride=(1, 1), padding=(1, 1))\n",
       "    (7): ReLU(inplace=True)\n",
       "    (8): Conv2d(384, 256, kernel_size=(3, 3), stride=(1, 1), padding=(1, 1))\n",
       "    (9): ReLU(inplace=True)\n",
       "    (10): Conv2d(256, 256, kernel_size=(3, 3), stride=(1, 1), padding=(1, 1))\n",
       "    (11): ReLU(inplace=True)\n",
       "    (12): MaxPool2d(kernel_size=3, stride=2, padding=0, dilation=1, ceil_mode=False)\n",
       "  )\n",
       "  (avgpool): AdaptiveAvgPool2d(output_size=(6, 6))\n",
       "  (classifier): Sequential(\n",
       "    (0): Dropout(p=0.5, inplace=False)\n",
       "    (1): Linear(in_features=9216, out_features=4096, bias=True)\n",
       "    (2): ReLU(inplace=True)\n",
       "    (3): Dropout(p=0.5, inplace=False)\n",
       "    (4): Linear(in_features=4096, out_features=4096, bias=True)\n",
       "    (5): ReLU(inplace=True)\n",
       "    (6): Linear(in_features=4096, out_features=15, bias=True)\n",
       "  )\n",
       ")"
      ]
     },
     "execution_count": 12,
     "metadata": {},
     "output_type": "execute_result"
    }
   ],
   "source": [
    "def initialize_alexnet(model_name, num_classes, feature_extract=True, use_pretrained=True):\n",
    "\n",
    "  model_ft = None\n",
    "  input_size = 0\n",
    "\n",
    "  if model_name == \"alexnet\":\n",
    "    model_ft = models.alexnet(pretrained=use_pretrained)\n",
    "\n",
    "    if feature_extract:\n",
    "        for param in model_ft.parameters():\n",
    "            param.requires_grad = False\n",
    "    \n",
    "    num_ftrs = model_ft.classifier[6].in_features\n",
    "    model_ft.classifier[6] = nn.Linear(num_ftrs,num_classes)\n",
    "\n",
    "    input_size = 224\n",
    "  else:\n",
    "        print(\"Model name is invalid!\")\n",
    "        exit()\n",
    "\n",
    "  return model_ft,input_size\n",
    "\n",
    "model, _ = initialize_alexnet(\"alexnet\", num_classes=15)\n",
    "model.load_state_dict(torch.load(model_path))\n",
    "model.eval()"
   ]
  },
  {
   "cell_type": "code",
   "execution_count": 13,
   "metadata": {},
   "outputs": [],
   "source": [
    "labels_df = pd.read_csv(labels_path, header=None, names=['idx','Label'])\n",
    "labels_dict = dict(zip(labels_df.idx, labels_df.Label))"
   ]
  },
  {
   "cell_type": "code",
   "execution_count": 14,
   "metadata": {},
   "outputs": [],
   "source": [
    "def predict(img):\n",
    "    transform = transforms.Compose([            \n",
    "    transforms.Resize(256),                    \n",
    "    transforms.CenterCrop(224),                \n",
    "    transforms.ToTensor(),                     \n",
    "    transforms.Normalize(                      \n",
    "    mean=[0.485, 0.456, 0.406],                \n",
    "    std=[0.229, 0.224, 0.225]                  \n",
    "    )])\n",
    "\n",
    "    img_t = transform(img)\n",
    "    batch_t = torch.unsqueeze(img_t, 0)  \n",
    "    out = model(batch_t)\n",
    "    _, index = torch.max(out, 1)\n",
    "    \n",
    "    return index\n",
    "\n",
    "def get_label(labels_dict, idx=-1):\n",
    "    if (idx>=0 and idx<=14):\n",
    "        label = labels_dict[idx]\n",
    "    else:\n",
    "        label = ''\n",
    "    return label"
   ]
  },
  {
   "cell_type": "code",
   "execution_count": 15,
   "metadata": {},
   "outputs": [],
   "source": [
    "test_data_dir = '../Dataset/val'"
   ]
  },
  {
   "cell_type": "code",
   "execution_count": 18,
   "metadata": {},
   "outputs": [],
   "source": [
    "actual_label_list = []\n",
    "predicted_lebel_list = []\n",
    "list_test_data_dir = listdir(test_data_dir)\n",
    "for leaf_image_dir in list_test_data_dir :\n",
    "        image_list = listdir(f\"{test_data_dir}/{leaf_image_dir}\")\n",
    "        for image in image_list:\n",
    "          image_file = f\"{test_data_dir}/{leaf_image_dir}/{image}\"\n",
    "          if image_file.endswith(\".jpg\") == True or image_file.endswith(\".JPG\") == True:\n",
    "            actual_label_list.append(leaf_image_dir)\n",
    "            img = Image.open(image_file)\n",
    "            pred_idx = predict(img)\n",
    "            predicted_lebel = get_label(labels_dict, pred_idx.numpy()[0])\n",
    "            predicted_lebel_list.append(predicted_lebel)"
   ]
  },
  {
   "cell_type": "code",
   "execution_count": 19,
   "metadata": {},
   "outputs": [],
   "source": [
    "cm = confusion_matrix(actual_label_list, predicted_lebel_list)"
   ]
  },
  {
   "cell_type": "code",
   "execution_count": 20,
   "metadata": {},
   "outputs": [
    {
     "name": "stdout",
     "output_type": "stream",
     "text": [
      "Calculating AlexNet model accuracy\n",
      "Test Accuracy: 81.5\n"
     ]
    }
   ],
   "source": [
    "print(\"Calculating AlexNet model accuracy\")\n",
    "scores = (cm.trace()/cm.sum())\n",
    "print(f\"Test Accuracy: {scores*100}\")"
   ]
  },
  {
   "cell_type": "code",
   "execution_count": null,
   "metadata": {},
   "outputs": [],
   "source": []
  }
 ],
 "metadata": {
  "kernelspec": {
   "display_name": "Python 3",
   "language": "python",
   "name": "python3"
  },
  "language_info": {
   "codemirror_mode": {
    "name": "ipython",
    "version": 3
   },
   "file_extension": ".py",
   "mimetype": "text/x-python",
   "name": "python",
   "nbconvert_exporter": "python",
   "pygments_lexer": "ipython3",
   "version": "3.8.5"
  }
 },
 "nbformat": 4,
 "nbformat_minor": 4
}
